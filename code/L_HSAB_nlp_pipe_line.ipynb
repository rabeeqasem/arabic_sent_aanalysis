{
  "nbformat": 4,
  "nbformat_minor": 0,
  "metadata": {
    "colab": {
      "provenance": [],
      "collapsed_sections": []
    },
    "kernelspec": {
      "name": "python3",
      "display_name": "Python 3"
    },
    "language_info": {
      "name": "python"
    },
    "accelerator": "GPU",
    "gpuClass": "standard"
  },
  "cells": [
    {
      "cell_type": "code",
      "source": [
        "\n",
        "!pip install --upgrade transformers\n"
      ],
      "metadata": {
        "colab": {
          "base_uri": "https://localhost:8080/"
        },
        "id": "_aNg0Ngey46_",
        "outputId": "98e0b8da-54de-4445-ee64-2e26ebbd3a6c"
      },
      "execution_count": 89,
      "outputs": [
        {
          "output_type": "stream",
          "name": "stdout",
          "text": [
            "Looking in indexes: https://pypi.org/simple, https://us-python.pkg.dev/colab-wheels/public/simple/\n",
            "Requirement already satisfied: transformers in /usr/local/lib/python3.7/dist-packages (4.22.1)\n",
            "Requirement already satisfied: requests in /usr/local/lib/python3.7/dist-packages (from transformers) (2.23.0)\n",
            "Requirement already satisfied: huggingface-hub<1.0,>=0.9.0 in /usr/local/lib/python3.7/dist-packages (from transformers) (0.9.1)\n",
            "Requirement already satisfied: tokenizers!=0.11.3,<0.13,>=0.11.1 in /usr/local/lib/python3.7/dist-packages (from transformers) (0.12.1)\n",
            "Requirement already satisfied: packaging>=20.0 in /usr/local/lib/python3.7/dist-packages (from transformers) (21.3)\n",
            "Requirement already satisfied: pyyaml>=5.1 in /usr/local/lib/python3.7/dist-packages (from transformers) (6.0)\n",
            "Requirement already satisfied: tqdm>=4.27 in /usr/local/lib/python3.7/dist-packages (from transformers) (4.64.1)\n",
            "Requirement already satisfied: numpy>=1.17 in /usr/local/lib/python3.7/dist-packages (from transformers) (1.21.6)\n",
            "Requirement already satisfied: regex!=2019.12.17 in /usr/local/lib/python3.7/dist-packages (from transformers) (2022.6.2)\n",
            "Requirement already satisfied: importlib-metadata in /usr/local/lib/python3.7/dist-packages (from transformers) (4.12.0)\n",
            "Requirement already satisfied: filelock in /usr/local/lib/python3.7/dist-packages (from transformers) (3.8.0)\n",
            "Requirement already satisfied: typing-extensions>=3.7.4.3 in /usr/local/lib/python3.7/dist-packages (from huggingface-hub<1.0,>=0.9.0->transformers) (4.1.1)\n",
            "Requirement already satisfied: pyparsing!=3.0.5,>=2.0.2 in /usr/local/lib/python3.7/dist-packages (from packaging>=20.0->transformers) (3.0.9)\n",
            "Requirement already satisfied: zipp>=0.5 in /usr/local/lib/python3.7/dist-packages (from importlib-metadata->transformers) (3.8.1)\n",
            "Requirement already satisfied: idna<3,>=2.5 in /usr/local/lib/python3.7/dist-packages (from requests->transformers) (2.10)\n",
            "Requirement already satisfied: certifi>=2017.4.17 in /usr/local/lib/python3.7/dist-packages (from requests->transformers) (2022.6.15)\n",
            "Requirement already satisfied: urllib3!=1.25.0,!=1.25.1,<1.26,>=1.21.1 in /usr/local/lib/python3.7/dist-packages (from requests->transformers) (1.24.3)\n",
            "Requirement already satisfied: chardet<4,>=3.0.2 in /usr/local/lib/python3.7/dist-packages (from requests->transformers) (3.0.4)\n"
          ]
        }
      ]
    },
    {
      "cell_type": "markdown",
      "source": [
        "https://www.kaggle.com/code/omarjoual/arabic-bert"
      ],
      "metadata": {
        "id": "DgTjt68PLg2M"
      }
    },
    {
      "cell_type": "code",
      "source": [
        "import pandas as pd\n",
        "import numpy as np\n",
        "import matplotlib.pyplot as plt \n",
        "\n",
        "import seaborn as sns\n",
        "sns.set_theme(style=\"darkgrid\")\n",
        "\n",
        "import re\n",
        "\n",
        "import tqdm.notebook as tq\n",
        "\n",
        "\n"
      ],
      "metadata": {
        "id": "aTrsI1F_pbKc"
      },
      "execution_count": 90,
      "outputs": []
    },
    {
      "cell_type": "code",
      "execution_count": 91,
      "metadata": {
        "colab": {
          "base_uri": "https://localhost:8080/",
          "height": 206
        },
        "id": "s_PqJMK3pUBS",
        "outputId": "5fafe446-02a4-4826-80ff-e71a8b49e109"
      },
      "outputs": [
        {
          "output_type": "execute_result",
          "data": {
            "text/plain": [
              "                                               Tweet    Class\n",
              "0  الوزير جبران باسيل تاج راسك يا جربان ممنوع بعد...  abusive\n",
              "1  صديقي انت ابن جامعه اللعبه اكبر من داعش اللعبه...   normal\n",
              "2  و مصلحة لبنان تبدأ باستخراج النفط و الغاز لوقف...   normal\n",
              "3                    وليد جنبلاط كاتب الحكمة يا قذر   abusive\n",
              "4  شو بتلبقلك كلمة خنزير بتجي مفصله على قياسك وشك...  abusive"
            ],
            "text/html": [
              "\n",
              "  <div id=\"df-173b7114-43ca-4605-bf9e-a4d656b1b388\">\n",
              "    <div class=\"colab-df-container\">\n",
              "      <div>\n",
              "<style scoped>\n",
              "    .dataframe tbody tr th:only-of-type {\n",
              "        vertical-align: middle;\n",
              "    }\n",
              "\n",
              "    .dataframe tbody tr th {\n",
              "        vertical-align: top;\n",
              "    }\n",
              "\n",
              "    .dataframe thead th {\n",
              "        text-align: right;\n",
              "    }\n",
              "</style>\n",
              "<table border=\"1\" class=\"dataframe\">\n",
              "  <thead>\n",
              "    <tr style=\"text-align: right;\">\n",
              "      <th></th>\n",
              "      <th>Tweet</th>\n",
              "      <th>Class</th>\n",
              "    </tr>\n",
              "  </thead>\n",
              "  <tbody>\n",
              "    <tr>\n",
              "      <th>0</th>\n",
              "      <td>الوزير جبران باسيل تاج راسك يا جربان ممنوع بعد...</td>\n",
              "      <td>abusive</td>\n",
              "    </tr>\n",
              "    <tr>\n",
              "      <th>1</th>\n",
              "      <td>صديقي انت ابن جامعه اللعبه اكبر من داعش اللعبه...</td>\n",
              "      <td>normal</td>\n",
              "    </tr>\n",
              "    <tr>\n",
              "      <th>2</th>\n",
              "      <td>و مصلحة لبنان تبدأ باستخراج النفط و الغاز لوقف...</td>\n",
              "      <td>normal</td>\n",
              "    </tr>\n",
              "    <tr>\n",
              "      <th>3</th>\n",
              "      <td>وليد جنبلاط كاتب الحكمة يا قذر</td>\n",
              "      <td>abusive</td>\n",
              "    </tr>\n",
              "    <tr>\n",
              "      <th>4</th>\n",
              "      <td>شو بتلبقلك كلمة خنزير بتجي مفصله على قياسك وشك...</td>\n",
              "      <td>abusive</td>\n",
              "    </tr>\n",
              "  </tbody>\n",
              "</table>\n",
              "</div>\n",
              "      <button class=\"colab-df-convert\" onclick=\"convertToInteractive('df-173b7114-43ca-4605-bf9e-a4d656b1b388')\"\n",
              "              title=\"Convert this dataframe to an interactive table.\"\n",
              "              style=\"display:none;\">\n",
              "        \n",
              "  <svg xmlns=\"http://www.w3.org/2000/svg\" height=\"24px\"viewBox=\"0 0 24 24\"\n",
              "       width=\"24px\">\n",
              "    <path d=\"M0 0h24v24H0V0z\" fill=\"none\"/>\n",
              "    <path d=\"M18.56 5.44l.94 2.06.94-2.06 2.06-.94-2.06-.94-.94-2.06-.94 2.06-2.06.94zm-11 1L8.5 8.5l.94-2.06 2.06-.94-2.06-.94L8.5 2.5l-.94 2.06-2.06.94zm10 10l.94 2.06.94-2.06 2.06-.94-2.06-.94-.94-2.06-.94 2.06-2.06.94z\"/><path d=\"M17.41 7.96l-1.37-1.37c-.4-.4-.92-.59-1.43-.59-.52 0-1.04.2-1.43.59L10.3 9.45l-7.72 7.72c-.78.78-.78 2.05 0 2.83L4 21.41c.39.39.9.59 1.41.59.51 0 1.02-.2 1.41-.59l7.78-7.78 2.81-2.81c.8-.78.8-2.07 0-2.86zM5.41 20L4 18.59l7.72-7.72 1.47 1.35L5.41 20z\"/>\n",
              "  </svg>\n",
              "      </button>\n",
              "      \n",
              "  <style>\n",
              "    .colab-df-container {\n",
              "      display:flex;\n",
              "      flex-wrap:wrap;\n",
              "      gap: 12px;\n",
              "    }\n",
              "\n",
              "    .colab-df-convert {\n",
              "      background-color: #E8F0FE;\n",
              "      border: none;\n",
              "      border-radius: 50%;\n",
              "      cursor: pointer;\n",
              "      display: none;\n",
              "      fill: #1967D2;\n",
              "      height: 32px;\n",
              "      padding: 0 0 0 0;\n",
              "      width: 32px;\n",
              "    }\n",
              "\n",
              "    .colab-df-convert:hover {\n",
              "      background-color: #E2EBFA;\n",
              "      box-shadow: 0px 1px 2px rgba(60, 64, 67, 0.3), 0px 1px 3px 1px rgba(60, 64, 67, 0.15);\n",
              "      fill: #174EA6;\n",
              "    }\n",
              "\n",
              "    [theme=dark] .colab-df-convert {\n",
              "      background-color: #3B4455;\n",
              "      fill: #D2E3FC;\n",
              "    }\n",
              "\n",
              "    [theme=dark] .colab-df-convert:hover {\n",
              "      background-color: #434B5C;\n",
              "      box-shadow: 0px 1px 3px 1px rgba(0, 0, 0, 0.15);\n",
              "      filter: drop-shadow(0px 1px 2px rgba(0, 0, 0, 0.3));\n",
              "      fill: #FFFFFF;\n",
              "    }\n",
              "  </style>\n",
              "\n",
              "      <script>\n",
              "        const buttonEl =\n",
              "          document.querySelector('#df-173b7114-43ca-4605-bf9e-a4d656b1b388 button.colab-df-convert');\n",
              "        buttonEl.style.display =\n",
              "          google.colab.kernel.accessAllowed ? 'block' : 'none';\n",
              "\n",
              "        async function convertToInteractive(key) {\n",
              "          const element = document.querySelector('#df-173b7114-43ca-4605-bf9e-a4d656b1b388');\n",
              "          const dataTable =\n",
              "            await google.colab.kernel.invokeFunction('convertToInteractive',\n",
              "                                                     [key], {});\n",
              "          if (!dataTable) return;\n",
              "\n",
              "          const docLinkHtml = 'Like what you see? Visit the ' +\n",
              "            '<a target=\"_blank\" href=https://colab.research.google.com/notebooks/data_table.ipynb>data table notebook</a>'\n",
              "            + ' to learn more about interactive tables.';\n",
              "          element.innerHTML = '';\n",
              "          dataTable['output_type'] = 'display_data';\n",
              "          await google.colab.output.renderOutput(dataTable, element);\n",
              "          const docLink = document.createElement('div');\n",
              "          docLink.innerHTML = docLinkHtml;\n",
              "          element.appendChild(docLink);\n",
              "        }\n",
              "      </script>\n",
              "    </div>\n",
              "  </div>\n",
              "  "
            ]
          },
          "metadata": {},
          "execution_count": 91
        }
      ],
      "source": [
        "url='https://raw.githubusercontent.com/Hala-Mulki/L-HSAB-First-Arabic-Levantine-HateSpeech-Dataset/master/Dataset/L-HSAB'\n",
        "origin_ds=pd.read_table(url,encoding='utf-8')\n",
        "origin_ds['Class']=origin_ds['Class'].astype('category')\n",
        "origin_ds.head()"
      ]
    },
    {
      "cell_type": "code",
      "source": [
        "ax=sns.countplot(x='Class', data=origin_ds)\n"
      ],
      "metadata": {
        "colab": {
          "base_uri": "https://localhost:8080/",
          "height": 285
        },
        "id": "Wp-nkbPYpq7t",
        "outputId": "56ff0474-7c95-4b63-a56b-1308a5fa7e7a"
      },
      "execution_count": 92,
      "outputs": [
        {
          "output_type": "display_data",
          "data": {
            "text/plain": [
              "<Figure size 432x288 with 1 Axes>"
            ],
            "image/png": "[encoded data removed]"
          },
          "metadata": {}
        }
      ]
    },
    {
      "cell_type": "code",
      "source": [
        "#origin_ds[\"Class\"] = origin_ds[\"Class\"].cat.rename_categories({\"abusive\": \"hatee\"})\n",
        "origin_ds['Class'].replace('abusive','hate',inplace=True)\n"
      ],
      "metadata": {
        "id": "DgIQ7kQzscdt"
      },
      "execution_count": 93,
      "outputs": []
    },
    {
      "cell_type": "code",
      "source": [
        "ax=sns.countplot(x='Class', data=origin_ds)\n"
      ],
      "metadata": {
        "colab": {
          "base_uri": "https://localhost:8080/",
          "height": 285
        },
        "id": "A_4faHwhq04d",
        "outputId": "52a6030f-7645-4ee6-c322-cfa6b5d693da"
      },
      "execution_count": 94,
      "outputs": [
        {
          "output_type": "display_data",
          "data": {
            "text/plain": [
              "<Figure size 432x288 with 1 Axes>"
            ],
            "image/png": "[encoded data removed]"
          },
          "metadata": {}
        }
      ]
    },
    {
      "cell_type": "code",
      "source": [
        "#incode the catagorical values into inger\n",
        "origin_ds[\"Class\"].replace({\"normal\":\"0\",\"hate\":\"1\"},inplace=True)\n",
        "\n",
        "#"
      ],
      "metadata": {
        "id": "H0iPIPxYu5o8"
      },
      "execution_count": 95,
      "outputs": []
    },
    {
      "cell_type": "code",
      "source": [
        "#split the data into training and testing valeus 80 20 \n",
        "origin_ds['Class'].value_counts()\n",
        "test_data = origin_ds.sample(frac=0.2,random_state=200)\n",
        "test_data.shape\n",
        "data=origin_ds.drop(test_data.index)\n",
        "data.shape,test_data.shape"
      ],
      "metadata": {
        "colab": {
          "base_uri": "https://localhost:8080/"
        },
        "id": "XG-AiL7guKGd",
        "outputId": "b28ec7f5-a77d-4b18-ce23-cd73efbcfbee"
      },
      "execution_count": 96,
      "outputs": [
        {
          "output_type": "execute_result",
          "data": {
            "text/plain": [
              "((4677, 2), (1169, 2))"
            ]
          },
          "metadata": {},
          "execution_count": 96
        }
      ]
    },
    {
      "cell_type": "code",
      "source": [
        "#rename the data column for easy exctraction \n",
        "data.rename(columns={'Tweet':'texts'}, inplace=True)\n",
        "test_data.rename(columns={'Tweet':'texts'}, inplace=True)\n",
        "data.rename(columns={'Class':'data_labels'}, inplace=True)\n",
        "test_data.rename(columns={'Class':'data_labels'}, inplace=True)"
      ],
      "metadata": {
        "id": "JxZBbspHvbvu"
      },
      "execution_count": 97,
      "outputs": []
    },
    {
      "cell_type": "markdown",
      "source": [
        "implement Data agumentation"
      ],
      "metadata": {
        "id": "uX4m6-0yogca"
      }
    },
    {
      "cell_type": "code",
      "source": [
        "\n",
        "import random\n",
        "\n",
        "random.seed(0)\n",
        "\n",
        "PUNCTUATIONS = ['.', ',', '!', '?', ';', ':']\n",
        "NUM_AUGS = [1, 2,]\n",
        "PUNC_RATIO = 0.4\n",
        "\n",
        "# Insert punction words into a given sentence with the given ratio \"punc_ratio\"\n",
        "def insert_punctuation_marks(sentence, punc_ratio=PUNC_RATIO):\n",
        "\twords = sentence.split(' ')\n",
        "\tnew_line = []\n",
        "\tq = random.randint(1, int(punc_ratio * len(words) + 1))\n",
        "\tqs = random.sample(range(0, len(words)), q)\n",
        "\n",
        "\tfor j, word in enumerate(words):\n",
        "\t\tif j in qs:\n",
        "\t\t\tnew_line.append(PUNCTUATIONS[random.randint(0, len(PUNCTUATIONS)-1)])\n",
        "\t\t\tnew_line.append(word)\n",
        "\t\telse:\n",
        "\t\t\tnew_line.append(word)\n",
        "\tnew_line = ' '.join(new_line)\n",
        "\treturn new_line\n",
        "\n",
        "    \n"
      ],
      "metadata": {
        "id": "RN9-H08goepz"
      },
      "execution_count": 98,
      "outputs": []
    },
    {
      "cell_type": "code",
      "source": [
        "\n",
        "import os\n",
        "import sys\n",
        "from google.colab import drive\n",
        "drive.mount('/content/drive/')\n",
        "copy_dataset=data.copy(deep=True)\n",
        "\n",
        "\n",
        "\n",
        "data_file_name='out.csv'\n",
        "list_of_files=os.listdir('/content/drive/MyDrive/Colab Notebooks/NLP_SA')\n",
        "if data_file_name in list_of_files:\n",
        "  copy_dataset=pd.read_csv('/content/drive/MyDrive/Colab Notebooks/NLP_SA/out.csv',encoding='utf-8-sig')\n",
        "\n",
        "else:\n",
        "\n",
        "  copy_dataset=data.copy(deep=True)\n",
        "  copy_dataset.reset_index(drop=True,inplace=True)\n",
        "  data_aug = []\n",
        "  for aug in tq.tqdm(NUM_AUGS):\n",
        "    for index, row in tq.tqdm(copy_dataset.iterrows()):\n",
        "      for i in range(aug):\n",
        "        sentence_aug = insert_punctuation_marks(row['texts'])\n",
        "        copy_dataset.loc[len(copy_dataset)] = [sentence_aug, row['data_labels']]\n",
        "  copy_dataset.to_csv('/content/drive/MyDrive/Colab Notebooks/NLP_SA/out.csv', index=False,encoding='utf-8-sig')  \n",
        "\n",
        "        #print(row['texts'], row['data_labels'])\n"
      ],
      "metadata": {
        "colab": {
          "base_uri": "https://localhost:8080/"
        },
        "id": "kwo0pBsFouc_",
        "outputId": "2263f558-6013-49be-d6ac-623f89263ff1"
      },
      "execution_count": 99,
      "outputs": [
        {
          "output_type": "stream",
          "name": "stdout",
          "text": [
            "Drive already mounted at /content/drive/; to attempt to forcibly remount, call drive.mount(\"/content/drive/\", force_remount=True).\n"
          ]
        }
      ]
    },
    {
      "cell_type": "code",
      "source": [
        "#saving the data into training and testing\n",
        "#from sklearn.model_selection import train_test_split\n",
        "\n",
        "#X_train = data.texts.values\n",
        "#Y_train = data.data_labels.values\n",
        "\n",
        "X_train = copy_dataset.texts.values\n",
        "Y_train = copy_dataset.data_labels.values\n",
        "\n",
        "X_val= test_data.texts.values\n",
        "Y_val = test_data.data_labels.values"
      ],
      "metadata": {
        "id": "JAlwijLvvgeG"
      },
      "execution_count": 100,
      "outputs": []
    },
    {
      "cell_type": "markdown",
      "source": [
        "#modeling\n"
      ],
      "metadata": {
        "id": "9QqPXurHv2Oo"
      }
    },
    {
      "cell_type": "code",
      "source": [
        "import torch\n",
        "\n",
        "if torch.cuda.is_available():       \n",
        "    device = torch.device(\"cuda\")\n",
        "    print(f'There are {torch.cuda.device_count()} GPU(s) available.')\n",
        "    print('Device name:', torch.cuda.get_device_name(0))\n",
        "\n",
        "else:\n",
        "    print('No GPU available, using the CPU instead.')\n",
        "    device = torch.device(\"cpu\")"
      ],
      "metadata": {
        "colab": {
          "base_uri": "https://localhost:8080/"
        },
        "id": "QYUUB1Vuv4Gf",
        "outputId": "ab78231f-d662-4c27-81ea-3dfd2a2cc837"
      },
      "execution_count": 101,
      "outputs": [
        {
          "output_type": "stream",
          "name": "stdout",
          "text": [
            "There are 1 GPU(s) available.\n",
            "Device name: Tesla T4\n"
          ]
        }
      ]
    },
    {
      "cell_type": "code",
      "source": [
        "def text_preprocessing(text):\n",
        "    \"\"\"\n",
        "    - Remove entity mentions (eg. '@united')\n",
        "    - Correct errors (eg. '&amp;' to '&')\n",
        "    @param    text (str): a string to be processed.\n",
        "    @return   text (Str): the processed string.\n",
        "    \"\"\"\n",
        "    # Remove '@name'\n",
        "    text = re.sub(r'(@.*?)[\\s]', ' ', text)\n",
        "\n",
        "    # Replace '&amp;' with '&'\n",
        "    text = re.sub(r'&amp;', '&', text)\n",
        "\n",
        "    # Remove trailing whitespace\n",
        "    text = re.sub(r'\\s+', ' ', text).strip()\n",
        "\n",
        "    return text"
      ],
      "metadata": {
        "id": "EQOVGmO4wBBf"
      },
      "execution_count": 102,
      "outputs": []
    },
    {
      "cell_type": "code",
      "source": [
        "import os\n",
        "import re\n",
        "import nltk\n",
        "import numpy as np\n",
        "import pandas as pd\n",
        "from nltk import tokenize\n",
        "nltk.download('stopwords')\n",
        "!pip install emoji\n",
        "import spacy\n",
        "from sklearn.preprocessing import MultiLabelBinarizer, LabelEncoder\n",
        "import string\n",
        "from sklearn.utils import shuffle\n",
        "\n",
        "#from emoji import UNICODE_EMOJI\n",
        "from nltk.tokenize import sent_tokenize, word_tokenize\n",
        "import string\n",
        "from nltk.corpus import stopwords\n",
        "\n"
      ],
      "metadata": {
        "colab": {
          "base_uri": "https://localhost:8080/"
        },
        "id": "6uuNe7sLw5qH",
        "outputId": "b119216e-7b21-43d0-a7b0-438a4497df18"
      },
      "execution_count": 103,
      "outputs": [
        {
          "output_type": "stream",
          "name": "stderr",
          "text": [
            "[nltk_data] Downloading package stopwords to /root/nltk_data...\n",
            "[nltk_data]   Package stopwords is already up-to-date!\n"
          ]
        },
        {
          "output_type": "stream",
          "name": "stdout",
          "text": [
            "Looking in indexes: https://pypi.org/simple, https://us-python.pkg.dev/colab-wheels/public/simple/\n",
            "Requirement already satisfied: emoji in /usr/local/lib/python3.7/dist-packages (2.1.0)\n"
          ]
        }
      ]
    },
    {
      "cell_type": "code",
      "source": [
        "#remove arabic stopwords\n",
        "arb_stopwords = set(nltk.corpus.stopwords.words(\"arabic\"))\n",
        "\n",
        "#remove 3lamat al tashkeel\n",
        "arabic_diacritics = re.compile(\"\"\"\n",
        "                             ّ    | # Tashdid\n",
        "                             َ    | # Fatha\n",
        "                             ً    | # Tanwin Fath\n",
        "                             ُ    | # Damma\n",
        "                             ٌ    | # Tanwin Damm\n",
        "                             ِ    | # Kasra\n",
        "                             ٍ    | # Tanwin Kasr\n",
        "                             ْ    | # Sukun\n",
        "                             ـ     # Tatwil/Kashida\n",
        "                         \"\"\", re.VERBOSE)\n",
        "\n",
        "#remove arabic and english punctuation\n",
        "\n",
        "arabic_punctuations = '''`÷×؛<>_()*&^%][ـ،/:\"؟.,'{}~¦+|!”…“–ـ'''\n",
        "english_punctuations = string.punctuation\n",
        "punctuations_list = arabic_punctuations + english_punctuations"
      ],
      "metadata": {
        "id": "aQ4VghQYxT6N"
      },
      "execution_count": 104,
      "outputs": []
    },
    {
      "cell_type": "code",
      "source": [
        "def remove_urls (text):\n",
        "    text = re.sub(r'(https|http)?:\\/\\/(\\w|\\.|\\/|\\?|\\=|\\&|\\%)*\\b', '', text, flags=re.MULTILINE)\n",
        "    return text\n",
        "\n",
        "def remove_emails(text):\n",
        "    text = re.sub(r\"(^[a-zA-Z0-9_.+-]+@[a-zA-Z0-9-]+\\.[a-zA-Z0-9-.]+$)\", \"\",  text, flags=re.MULTILINE)\n",
        "    return text\n",
        "#Text Normalization\n",
        "def normalize_arabic(text):\n",
        "    text = re.sub(\"[إأآا]\", \"ا\", text)\n",
        "    text = re.sub(\"ى\", \"ي\", text)\n",
        "    text = re.sub(\"ؤ\", \"ء\", text)\n",
        "    text = re.sub(\"ئ\", \"ء\", text)\n",
        "    text = re.sub(\"ة\", \"ه\", text)\n",
        "    text = re.sub(\"گ\", \"ك\", text)\n",
        "    return text\n",
        "\n",
        "\n",
        "def remove_diacritics(text):\n",
        "    text = re.sub(arabic_diacritics, '', text)\n",
        "    return text\n",
        "\n",
        "def remove_stopwords(text):\n",
        "    filtered_sentence = [w for w in text.split() if not w in arb_stopwords]\n",
        "    return ' '.join(filtered_sentence)\n",
        "\n",
        "\n",
        "def remove_punctuations(text):\n",
        "    translator = str.maketrans('', '', punctuations_list)\n",
        "    return text.translate(translator)\n",
        "\n",
        "def hasDigits(s):\n",
        "    return any( 48 <= ord(char) <= 57  or 1632 <= ord(char) <= 1641 for char in s)"
      ],
      "metadata": {
        "id": "QbdmtHhrxo7K"
      },
      "execution_count": 105,
      "outputs": []
    },
    {
      "cell_type": "code",
      "source": [
        "def clean_content(line):\n",
        "    if (isinstance(line, float)):\n",
        "        return None\n",
        "    line.replace('\\n', ' ')\n",
        "    line = remove_emails(line)\n",
        "    line = remove_urls(line)\n",
        "    nline = [w if '@' not in w else 'USERIDX' for w in line.split()]\n",
        "    line = ' '.join(nline)\n",
        "    line = line.replace('RT', '').replace('<LF>', '').replace('<br />','').replace('&quot;', '').replace('<url>', '')\n",
        "\n",
        "\n",
        "    # add spaces between punc,\n",
        "    line = line.translate(str.maketrans({key: \" {0} \".format(key) for key in punctuations_list}))\n",
        "\n",
        "    # then remove punc,\n",
        "    \n",
        "    #translator = str.maketrans('', '', punctuations_list)\n",
        "    #line = line.translate(translator)\n",
        "\n",
        "    line=remove_diacritics(normalize_arabic(line))\n",
        "\n",
        "    line = remove_stopwords(line)\n",
        "\n",
        "    #replace number\n",
        "    nline = [word if not hasDigits(word) else '<NUM>' for word in line.split()]\n",
        "    line = ' '.join(nline)\n",
        "\n",
        "    return line"
      ],
      "metadata": {
        "id": "YGXAQmzjxsnP"
      },
      "execution_count": 106,
      "outputs": []
    },
    {
      "cell_type": "code",
      "source": [
        "# Print sentence 0\n",
        "print('Original: ', X_train[1500])\n",
        "print('Processed: ', text_preprocessing(X_train[1500]))\n"
      ],
      "metadata": {
        "colab": {
          "base_uri": "https://localhost:8080/"
        },
        "id": "U3rbhsiwyIi3",
        "outputId": "4e3f478c-27b9-4b28-a419-1cb61ca483b3"
      },
      "execution_count": 107,
      "outputs": [
        {
          "output_type": "stream",
          "name": "stdout",
          "text": [
            "Original:  لقد تم سحقهم أيها العزيز❤ \n",
            "Processed:  لقد تم سحقهم أيها العزيز❤\n"
          ]
        }
      ]
    },
    {
      "cell_type": "markdown",
      "source": [
        "## bert arabic toknizer"
      ],
      "metadata": {
        "id": "xrGTX1h1yz8X"
      }
    },
    {
      "cell_type": "code",
      "source": [
        "from transformers import BertTokenizer\n",
        "\n",
        "# Load the BERT tokenizer\n",
        "tokenizer = BertTokenizer.from_pretrained('aubmindlab/bert-base-arabertv02', do_lower_case=True)"
      ],
      "metadata": {
        "id": "CznrZ7d7yzcr"
      },
      "execution_count": 108,
      "outputs": []
    },
    {
      "cell_type": "code",
      "source": [
        "\n",
        "# Create a function to tokenize a set of texts\n",
        "def preprocessing_for_bert(data):\n",
        "    \"\"\"Perform required preprocessing steps for pretrained BERT.\n",
        "    @param    data (np.array): Array of texts to be processed.\n",
        "    @return   input_ids (torch.Tensor): Tensor of token ids to be fed to a model.\n",
        "    @return   attention_masks (torch.Tensor): Tensor of indices specifying which\n",
        "                  tokens should be attended to by the model.\n",
        "    \"\"\"\n",
        "    # Create empty lists to store outputs\n",
        "    input_ids = []\n",
        "    attention_masks = []\n",
        "\n",
        "    # For every sentence...\n",
        "    for sent in data:\n",
        "        # `encode_plus` will:\n",
        "        #    (1) Tokenize the sentence\n",
        "        #    (2) Add the `[CLS]` and `[SEP]` token to the start and end\n",
        "        #    (3) Truncate/Pad sentence to max length\n",
        "        #    (4) Map tokens to their IDs\n",
        "        #    (5) Create attention mask\n",
        "        #    (6) Return a dictionary of outputs\n",
        "        encoded_sent = tokenizer.encode_plus(\n",
        "            text=clean_content(sent),  # Preprocess sentence\n",
        "            add_special_tokens=True,        # Add `[CLS]` and `[SEP]`\n",
        "            max_length=MAX_LEN,                  # Max length to truncate/pad\n",
        "            pad_to_max_length=True,         # Pad sentence to max length\n",
        "            #return_tensors='pt',           # Return PyTorch tensor\n",
        "            return_attention_mask=True      # Return attention mask\n",
        "            )\n",
        "        \n",
        "        # Add the outputs to the lists\n",
        "        input_ids.append(encoded_sent.get('input_ids'))\n",
        "        attention_masks.append(encoded_sent.get('attention_mask'))\n",
        "\n",
        "    # Convert lists to tensors\n",
        "    input_ids = torch.tensor(input_ids)\n",
        "    attention_masks = torch.tensor(attention_masks)\n",
        "\n",
        "    return input_ids, attention_masks"
      ],
      "metadata": {
        "id": "7ClD6RTGzOdh"
      },
      "execution_count": 109,
      "outputs": []
    },
    {
      "cell_type": "code",
      "source": [
        "max_len = 512\n",
        "# Concatenate train data and test data\n",
        "\n",
        "#all_tweets = np.concatenate([data.texts.values, test_data.texts.values])\n",
        "all_tweets = np.concatenate([copy_dataset.texts.values, test_data.texts.values])\n"
      ],
      "metadata": {
        "id": "ylBfUhNlz06R"
      },
      "execution_count": 110,
      "outputs": []
    },
    {
      "cell_type": "code",
      "source": [
        "# Encode our concatenated data\n",
        "encoded_tweets = [tokenizer.encode(sent, add_special_tokens=True) for sent in all_tweets]"
      ],
      "metadata": {
        "id": "bQHvD4a0z5Wv"
      },
      "execution_count": 111,
      "outputs": []
    },
    {
      "cell_type": "code",
      "source": [
        "# Find the maximum length\n",
        "max_len1 = max([len(sent) for sent in encoded_tweets])\n",
        "print('Max length: ', max_len1)"
      ],
      "metadata": {
        "colab": {
          "base_uri": "https://localhost:8080/"
        },
        "id": "apg9jkb1z808",
        "outputId": "c5368d60-f298-4169-faf1-8f8b40b01d60"
      },
      "execution_count": 112,
      "outputs": [
        {
          "output_type": "stream",
          "name": "stdout",
          "text": [
            "Max length:  169\n"
          ]
        }
      ]
    },
    {
      "cell_type": "code",
      "source": [
        "# Specify `MAX_LEN`\n",
        "MAX_LEN = 256\n",
        "\n",
        "# Print sentence 0 and its encoded token ids\n",
        "token_ids = list(preprocessing_for_bert([X_train[0]])[0].squeeze().numpy())\n",
        "print('Original: ', X_train[0])\n",
        "print('Token IDs: ', token_ids)\n",
        "\n",
        "# Run function `preprocessing_for_bert` on the train set and the validation set\n",
        "print('Tokenizing data...')\n",
        "train_inputs, train_masks = preprocessing_for_bert(X_train)\n",
        "val_inputs, val_masks = preprocessing_for_bert(X_val)"
      ],
      "metadata": {
        "colab": {
          "base_uri": "https://localhost:8080/"
        },
        "id": "uYgyXhst0Ha9",
        "outputId": "04273f5d-938e-4206-c6ca-796280417343"
      },
      "execution_count": 113,
      "outputs": [
        {
          "output_type": "stream",
          "name": "stderr",
          "text": [
            "Truncation was not explicitly activated but `max_length` is provided a specific value, please use `truncation=True` to explicitly truncate examples to max length. Defaulting to 'longest_first' truncation strategy. If you encode pairs of sequences (GLUE-style) with the tokenizer you can select this strategy more precisely by providing a specific strategy to `truncation`.\n"
          ]
        },
        {
          "output_type": "stream",
          "name": "stdout",
          "text": [
            "Original:  صديقي انت ابن جامعه اللعبه اكبر من داعش اللعبه سنيه شيعية واعادة توزيع ديموغرافي بسوريا\n",
            "Token IDs:  [2, 24045, 740, 2298, 10424, 195, 5541, 195, 4533, 4745, 5541, 195, 28168, 195, 36414, 195, 2659, 1867, 3668, 4524, 40479, 24614, 3, 0, 0, 0, 0, 0, 0, 0, 0, 0, 0, 0, 0, 0, 0, 0, 0, 0, 0, 0, 0, 0, 0, 0, 0, 0, 0, 0, 0, 0, 0, 0, 0, 0, 0, 0, 0, 0, 0, 0, 0, 0, 0, 0, 0, 0, 0, 0, 0, 0, 0, 0, 0, 0, 0, 0, 0, 0, 0, 0, 0, 0, 0, 0, 0, 0, 0, 0, 0, 0, 0, 0, 0, 0, 0, 0, 0, 0, 0, 0, 0, 0, 0, 0, 0, 0, 0, 0, 0, 0, 0, 0, 0, 0, 0, 0, 0, 0, 0, 0, 0, 0, 0, 0, 0, 0, 0, 0, 0, 0, 0, 0, 0, 0, 0, 0, 0, 0, 0, 0, 0, 0, 0, 0, 0, 0, 0, 0, 0, 0, 0, 0, 0, 0, 0, 0, 0, 0, 0, 0, 0, 0, 0, 0, 0, 0, 0, 0, 0, 0, 0, 0, 0, 0, 0, 0, 0, 0, 0, 0, 0, 0, 0, 0, 0, 0, 0, 0, 0, 0, 0, 0, 0, 0, 0, 0, 0, 0, 0, 0, 0, 0, 0, 0, 0, 0, 0, 0, 0, 0, 0, 0, 0, 0, 0, 0, 0, 0, 0, 0, 0, 0, 0, 0, 0, 0, 0, 0, 0, 0, 0, 0, 0, 0, 0, 0, 0, 0, 0, 0, 0, 0, 0, 0, 0, 0, 0, 0, 0, 0, 0, 0, 0, 0]\n",
            "Tokenizing data...\n"
          ]
        },
        {
          "output_type": "stream",
          "name": "stderr",
          "text": [
            "/usr/local/lib/python3.7/dist-packages/transformers/tokenization_utils_base.py:2308: FutureWarning: The `pad_to_max_length` argument is deprecated and will be removed in a future version, use `padding=True` or `padding='longest'` to pad to the longest sequence in the batch, or use `padding='max_length'` to pad to a max length. In this case, you can give a specific length with `max_length` (e.g. `max_length=45`) or leave max_length to None to pad to the maximal input size of the model (e.g. 512 for Bert).\n",
            "  FutureWarning,\n"
          ]
        }
      ]
    },
    {
      "cell_type": "code",
      "source": [
        "from torch.utils.data import TensorDataset, DataLoader, RandomSampler, SequentialSampler\n",
        "\n",
        "# Convert other data types to torch.Tensor\n",
        "train_labels = torch.tensor(Y_train.astype(float))\n",
        "val_labels = torch.tensor(Y_val.astype(float))\n",
        "\n",
        "# For fine-tuning BERT, the authors recommend a batch size of 16 or 32.\n",
        "batch_size = 32\n",
        "\n",
        "# Create the DataLoader for our training set\n",
        "train_data = TensorDataset(train_inputs, train_masks, train_labels)\n",
        "train_sampler = RandomSampler(train_data)\n",
        "train_dataloader = DataLoader(train_data, sampler=train_sampler, batch_size=batch_size)\n",
        "\n",
        "# Create the DataLoader for our validation set\n",
        "val_data = TensorDataset(val_inputs, val_masks, val_labels)\n",
        "val_sampler = SequentialSampler(val_data)\n",
        "val_dataloader = DataLoader(val_data, sampler=val_sampler, batch_size=batch_size)"
      ],
      "metadata": {
        "id": "E9roZCvl1Vy2"
      },
      "execution_count": 114,
      "outputs": []
    },
    {
      "cell_type": "code",
      "source": [
        "def save_checkpoint(state,file_name='/content/drive/MyDrive/Colab Notebooks/NLP_SA/training_checkpoint.pth.tar'):\n",
        "  print('************************** saving checkpoint **************************')\n",
        "  torch.save(state,file_name)"
      ],
      "metadata": {
        "id": "ScJ6QRtn-R6n"
      },
      "execution_count": 115,
      "outputs": []
    },
    {
      "cell_type": "code",
      "source": [
        "%%time\n",
        "import torch\n",
        "import torch.nn as nn\n",
        "from transformers import BertModel\n",
        "\n",
        "# Create the BertClassfier class\n",
        "class BertClassifier(nn.Module):\n",
        "    \"\"\"Bert Model for Classification Tasks.\n",
        "    \"\"\"\n",
        "    def __init__(self, freeze_bert=False):\n",
        "        \"\"\"\n",
        "        @param    bert: a BertModel object\n",
        "        @param    classifier: a torch.nn.Module classifier\n",
        "        @param    freeze_bert (bool): Set `False` to fine-tune the BERT model\n",
        "        \"\"\"\n",
        "        super(BertClassifier, self).__init__()\n",
        "        # Specify hidden size of BERT, hidden size of our classifier, and number of labels\n",
        "\n",
        "        # why 768\n",
        "        #D_in, H, D_out = 768, 50, 2\n",
        "        \n",
        "        D_in, H1,H2,H3, D_out = 768, 512,256,64, 2\n",
        "\n",
        "        # Instantiate BERT model\n",
        "        self.bert = BertModel.from_pretrained('aubmindlab/bert-base-arabertv02')\n",
        "\n",
        "        # Instantiate an one-layer feed-forward classifier\n",
        "        self.classifier = nn.Sequential(\n",
        "            #nn.Linear(D_in, H),\n",
        "            #nn.ReLU(),\n",
        "            nn.Linear(D_in, H1),\n",
        "            nn.ReLU(),\n",
        "            \n",
        "            nn.Linear(H1, H2),\n",
        "            nn.ReLU(),\n",
        "\n",
        "            nn.Linear(H2, H3),\n",
        "            nn.ReLU(),\n",
        "            \n",
        "            nn.Dropout(0.5),\n",
        "            #nn.Linear(H, D_out)\n",
        "            nn.Linear(H3,D_out)\n",
        "        )\n",
        "\n",
        "        # Freeze the BERT model\n",
        "        if freeze_bert:\n",
        "            for param in self.bert.parameters():\n",
        "                param.requires_grad = False\n",
        "        \n",
        "    def forward(self, input_ids, attention_mask):\n",
        "        \"\"\"\n",
        "        Feed input to BERT and the classifier to compute logits.\n",
        "        @param    input_ids (torch.Tensor): an input tensor with shape (batch_size,\n",
        "                      max_length)\n",
        "        @param    attention_mask (torch.Tensor): a tensor that hold attention mask\n",
        "                      information with shape (batch_size, max_length)\n",
        "        @return   logits (torch.Tensor): an output tensor with shape (batch_size,\n",
        "                      num_labels)\n",
        "        \"\"\"\n",
        "        # Feed input to BERT\n",
        "        outputs = self.bert(input_ids=input_ids,\n",
        "                            attention_mask=attention_mask)\n",
        "        \n",
        "        # Extract the last hidden state of the token `[CLS]` for classification task\n",
        "        last_hidden_state_cls = outputs[0][:, 0, :]\n",
        "\n",
        "        # Feed input to classifier to compute logits\n",
        "        logits = self.classifier(last_hidden_state_cls)\n",
        "\n",
        "        return logits"
      ],
      "metadata": {
        "colab": {
          "base_uri": "https://localhost:8080/"
        },
        "id": "qa3MDoYa2H-3",
        "outputId": "162181d6-4f3d-41ba-deb6-c8b135c31860"
      },
      "execution_count": 116,
      "outputs": [
        {
          "output_type": "stream",
          "name": "stdout",
          "text": [
            "CPU times: user 0 ns, sys: 60 µs, total: 60 µs\n",
            "Wall time: 65.1 µs\n"
          ]
        }
      ]
    },
    {
      "cell_type": "code",
      "source": [
        "\n",
        "from transformers import AdamW, get_linear_schedule_with_warmup\n",
        "\n",
        "def initialize_model(epochs=4):\n",
        "    \"\"\"Initialize the Bert Classifier, the optimizer and the learning rate scheduler.\n",
        "    \"\"\"\n",
        "    # Instantiate Bert Classifier\n",
        "    bert_classifier = BertClassifier(freeze_bert=False)\n",
        "\n",
        "    # Tell PyTorch to run the model on GPU\n",
        "    bert_classifier.to(device)\n",
        "\n",
        "    # Create the optimizer\n",
        "    #optimizer = AdamW(bert_classifier.parameters(),\n",
        "                      #lr=5e-5,    # Default learning rate\n",
        "                      #eps=1e-8    # Default epsilon value\n",
        "                      #)\n",
        "    optimizer = torch.optim.AdamW(bert_classifier.parameters(),\n",
        "                      lr=5e-5,    # Default learning rate\n",
        "                      eps=1e-8    # Default epsilon value\n",
        "                      )\n",
        "\n",
        "    # Total number of training steps\n",
        "    total_steps = len(train_dataloader) * epochs\n",
        "\n",
        "    # Set up the learning rate scheduler\n",
        "    scheduler = get_linear_schedule_with_warmup(optimizer,\n",
        "                                                num_warmup_steps=0, # Default value\n",
        "                                                num_training_steps=total_steps)\n",
        "    return bert_classifier, optimizer, scheduler"
      ],
      "metadata": {
        "id": "dIfGABAk2qst"
      },
      "execution_count": 117,
      "outputs": []
    },
    {
      "cell_type": "code",
      "source": [
        "import random\n",
        "import time\n",
        "\n",
        "# Specify loss function\n",
        "loss_fn = nn.CrossEntropyLoss()\n",
        "\n",
        "def set_seed(seed_value=42):\n",
        "    \"\"\"Set seed for reproducibility.\n",
        "    \"\"\"\n",
        "    random.seed(seed_value)\n",
        "    np.random.seed(seed_value)\n",
        "    torch.manual_seed(seed_value)\n",
        "    torch.cuda.manual_seed_all(seed_value)\n",
        "\n",
        "def train(model, train_dataloader, val_dataloader=None, epochs=4, evaluation=False):\n",
        "    \"\"\"Train the BertClassifier model.\n",
        "    \"\"\"\n",
        "    # Start training loop\n",
        "    print(\"Start training...\\n\")\n",
        "    for epoch_i in range(epochs):\n",
        "        # =======================================\n",
        "        #               Training\n",
        "        # =======================================\n",
        "        # Print the header of the result table\n",
        "        print(f\"{'Epoch':^7} | {'Batch':^7} | {'Train Loss':^12} | {'Val Loss':^10} | {'Val Acc':^9} | {'Elapsed':^9}\")\n",
        "        print(\"-\"*70)\n",
        "\n",
        "        # Measure the elapsed time of each epoch\n",
        "        t0_epoch, t0_batch = time.time(), time.time()\n",
        "\n",
        "        # Reset tracking variables at the beginning of each epoch\n",
        "        total_loss, batch_loss, batch_counts = 0, 0, 0\n",
        "\n",
        "        # Put the model into the training mode\n",
        "        model.train()\n",
        "\n",
        "        # For each batch of training data...\n",
        "        for step, batch in enumerate(train_dataloader):\n",
        "            batch_counts +=1\n",
        "            # Load batch to GPU\n",
        "            b_input_ids, b_attn_mask, b_labels = tuple(t.to(device) for t in batch)\n",
        "            \n",
        "            # Always clear any previously calculated gradients before performing a\n",
        "            # backward pass. PyTorch doesn't do this automatically because \n",
        "            # accumulating the gradients is \"convenient while training RN\n",
        "            # Zero out any previously calculated gradients\n",
        "            model.zero_grad()\n",
        "\n",
        "            # Perform a forward pass. This will return logits.\n",
        "            logits = model(b_input_ids, b_attn_mask)\n",
        "            \n",
        "            # Accumulate the training loss over all of the batches so that we can\n",
        "            # calculate the average loss at the end. `loss` is a Tensor containing a\n",
        "            # single value; the `.item()` function just returns the Python value \n",
        "            # from the tensor.\n",
        "\n",
        "            # Compute loss and accumulate the loss values\n",
        "            loss = loss_fn(logits, b_labels.long())\n",
        "            batch_loss += loss.item()\n",
        "            total_loss += loss.item()\n",
        "\n",
        "            # Perform a backward pass to calculate gradients\n",
        "            loss.backward()\n",
        "\n",
        "            # Clip the norm of the gradients to 1.0 to prevent \"exploding gradients\"\n",
        "            torch.nn.utils.clip_grad_norm_(model.parameters(), 1.0)\n",
        "\n",
        "            # Update parameters and the learning rate\n",
        "            optimizer.step()\n",
        "            scheduler.step()\n",
        "\n",
        "            # Print the loss values and time elapsed for every 20 batches\n",
        "            if (step % 20 == 0 and step != 0) or (step == len(train_dataloader) - 1):\n",
        "                # Calculate time elapsed for 20 batches\n",
        "                time_elapsed = time.time() - t0_batch\n",
        "\n",
        "                # Print training results\n",
        "                print(f\"{epoch_i + 1:^7} | {step:^7} | {batch_loss / batch_counts:^12.6f} | {'-':^10} | {'-':^9} | {time_elapsed:^9.2f}\")\n",
        "\n",
        "                # Reset batch tracking variables\n",
        "                batch_loss, batch_counts = 0, 0\n",
        "                t0_batch = time.time()\n",
        "          \n",
        "            if (step % 100 == 0 and step != 0) or (step == len(train_dataloader) - 1):\n",
        "              checkpoint= {'state_dict':model.state_dict(), 'optimizer':optimizer.state_dict()}\n",
        "              save_checkpoint(checkpoint)\n",
        " \n",
        "\n",
        "\n",
        "\n",
        "\n",
        "        # Calculate the average loss over the entire training data\n",
        "        avg_train_loss = total_loss / len(train_dataloader)\n",
        "        \n",
        "\n",
        "        print(\"-\"*70)\n",
        "        # =======================================\n",
        "        #               Evaluation\n",
        "        # =======================================\n",
        "        if evaluation == True:\n",
        "            # After the completion of each training epoch, measure the model's performance\n",
        "            # on our validation set.\n",
        "            val_loss, val_accuracy = evaluate(model, val_dataloader)\n",
        "\n",
        "            # Print performance over the entire training data\n",
        "            time_elapsed = time.time() - t0_epoch\n",
        "            \n",
        "            print(f\"{epoch_i + 1:^7} | {'-':^7} | {avg_train_loss:^12.6f} | {val_loss:^10.6f} | {val_accuracy:^9.2f} | {time_elapsed:^9.2f}\")\n",
        "            print(\"-\"*70)\n",
        "        print(\"\\n\")\n",
        "        #torch.save(model.state_dict(), './mymodel.h5')\n",
        "        #model.save_pretrained('./mymodel.h5',model)\n",
        "        torch.save(model, './mymodel1.h5')\n",
        "        \n",
        "    torch.save(model, './mymodel1.h5')\n",
        "    print(\"Training complete!\")\n",
        "\n",
        "\n",
        "def evaluate(model, val_dataloader):\n",
        "    \"\"\"After the completion of each training epoch, measure the model's performance\n",
        "    on our validation set.\n",
        "    \"\"\"\n",
        "    # Put the model into the evaluation mode. The dropout layers are disabled during\n",
        "    # the test time.\n",
        "    model.eval()\n",
        "\n",
        "    # Tracking variables\n",
        "    val_accuracy = []\n",
        "    val_loss = []\n",
        "\n",
        "    # For each batch in our validation set...\n",
        "    for batch in val_dataloader:\n",
        "        # Load batch to GPU\n",
        "        b_input_ids, b_attn_mask, b_labels = tuple(t.to(device) for t in batch)\n",
        "\n",
        "        # Compute logits\n",
        "        with torch.no_grad():\n",
        "            logits = model(b_input_ids, b_attn_mask)\n",
        "\n",
        "        # Compute loss\n",
        "        loss = loss_fn(logits, b_labels.long())\n",
        "        val_loss.append(loss.item())\n",
        "\n",
        "        # Get the predictions\n",
        "        preds = torch.argmax(logits, dim=1).flatten()\n",
        "\n",
        "        # Calculate the accuracy rate\n",
        "        accuracy = (preds == b_labels).cpu().numpy().mean() * 100\n",
        "        val_accuracy.append(accuracy)\n",
        "\n",
        "    # Compute the average accuracy and loss over the validation set.\n",
        "    val_loss = np.mean(val_loss)\n",
        "    val_accuracy = np.mean(val_accuracy)\n",
        "\n",
        "    return val_loss, val_accuracy"
      ],
      "metadata": {
        "id": "xo18PGWJ2uoe"
      },
      "execution_count": 118,
      "outputs": []
    },
    {
      "cell_type": "code",
      "source": [
        "import gc\n",
        "\n",
        "gc.collect()\n",
        "\n",
        "torch.cuda.empty_cache()"
      ],
      "metadata": {
        "id": "8LslB4m_3rS4"
      },
      "execution_count": 119,
      "outputs": []
    },
    {
      "cell_type": "code",
      "source": [
        "set_seed(42)    # Set seed for reproducibility\n",
        "bert_classifier, optimizer, scheduler = initialize_model(epochs=4)\n",
        "train(bert_classifier, train_dataloader, val_dataloader, epochs=4, evaluation=True)"
      ],
      "metadata": {
        "colab": {
          "base_uri": "https://localhost:8080/"
        },
        "id": "2LUNlgYx3uET",
        "outputId": "7e57a51d-8b81-4f1e-d1d6-5d36f8eede1b"
      },
      "execution_count": 120,
      "outputs": [
        {
          "output_type": "stream",
          "name": "stderr",
          "text": [
            "Some weights of the model checkpoint at aubmindlab/bert-base-arabertv02 were not used when initializing BertModel: ['cls.predictions.decoder.bias', 'cls.predictions.transform.dense.weight', 'cls.predictions.bias', 'cls.predictions.decoder.weight', 'cls.predictions.transform.LayerNorm.weight', 'cls.seq_relationship.bias', 'cls.predictions.transform.dense.bias', 'cls.seq_relationship.weight', 'cls.predictions.transform.LayerNorm.bias']\n",
            "- This IS expected if you are initializing BertModel from the checkpoint of a model trained on another task or with another architecture (e.g. initializing a BertForSequenceClassification model from a BertForPreTraining model).\n",
            "- This IS NOT expected if you are initializing BertModel from the checkpoint of a model that you expect to be exactly identical (initializing a BertForSequenceClassification model from a BertForSequenceClassification model).\n"
          ]
        },
        {
          "output_type": "stream",
          "name": "stdout",
          "text": [
            "Start training...\n",
            "\n",
            " Epoch  |  Batch  |  Train Loss  |  Val Loss  |  Val Acc  |  Elapsed \n",
            "----------------------------------------------------------------------\n",
            "   1    |   20    |   0.653300   |     -      |     -     |   27.44  \n",
            "   1    |   40    |   0.566830   |     -      |     -     |   27.27  \n",
            "   1    |   60    |   0.477189   |     -      |     -     |   27.23  \n",
            "   1    |   80    |   0.432680   |     -      |     -     |   26.97  \n",
            "   1    |   100   |   0.399484   |     -      |     -     |   27.13  \n",
            "************************** saving checkpoint **************************\n",
            "   1    |   120   |   0.388651   |     -      |     -     |   33.66  \n",
            "   1    |   140   |   0.366325   |     -      |     -     |   27.26  \n",
            "   1    |   160   |   0.340955   |     -      |     -     |   27.00  \n",
            "   1    |   180   |   0.332994   |     -      |     -     |   27.14  \n",
            "   1    |   200   |   0.295778   |     -      |     -     |   27.17  \n",
            "************************** saving checkpoint **************************\n",
            "   1    |   220   |   0.240723   |     -      |     -     |   33.82  \n",
            "   1    |   240   |   0.245653   |     -      |     -     |   27.28  \n",
            "   1    |   260   |   0.251237   |     -      |     -     |   27.01  \n",
            "   1    |   280   |   0.229462   |     -      |     -     |   27.13  \n",
            "   1    |   300   |   0.258459   |     -      |     -     |   27.17  \n",
            "************************** saving checkpoint **************************\n",
            "   1    |   320   |   0.260587   |     -      |     -     |   34.16  \n",
            "   1    |   340   |   0.218607   |     -      |     -     |   27.25  \n",
            "   1    |   360   |   0.180906   |     -      |     -     |   27.01  \n",
            "   1    |   380   |   0.179581   |     -      |     -     |   27.13  \n",
            "   1    |   400   |   0.184215   |     -      |     -     |   27.16  \n",
            "************************** saving checkpoint **************************\n",
            "   1    |   420   |   0.163721   |     -      |     -     |   33.66  \n",
            "   1    |   440   |   0.194271   |     -      |     -     |   27.27  \n",
            "   1    |   460   |   0.175999   |     -      |     -     |   27.11  \n",
            "   1    |   480   |   0.178031   |     -      |     -     |   27.12  \n",
            "   1    |   500   |   0.157327   |     -      |     -     |   27.17  \n",
            "************************** saving checkpoint **************************\n",
            "   1    |   520   |   0.132670   |     -      |     -     |   34.55  \n",
            "   1    |   540   |   0.103977   |     -      |     -     |   27.24  \n",
            "   1    |   560   |   0.142748   |     -      |     -     |   27.01  \n",
            "   1    |   580   |   0.142966   |     -      |     -     |   27.05  \n",
            "   1    |   600   |   0.128634   |     -      |     -     |   27.12  \n",
            "************************** saving checkpoint **************************\n",
            "   1    |   620   |   0.097382   |     -      |     -     |   33.92  \n",
            "   1    |   640   |   0.127430   |     -      |     -     |   27.28  \n",
            "   1    |   660   |   0.147851   |     -      |     -     |   27.02  \n",
            "   1    |   680   |   0.113922   |     -      |     -     |   27.13  \n",
            "   1    |   700   |   0.107258   |     -      |     -     |   27.19  \n",
            "************************** saving checkpoint **************************\n",
            "   1    |   720   |   0.089716   |     -      |     -     |   33.98  \n",
            "   1    |   740   |   0.108311   |     -      |     -     |   27.26  \n",
            "   1    |   760   |   0.059406   |     -      |     -     |   26.94  \n",
            "   1    |   780   |   0.058334   |     -      |     -     |   27.15  \n",
            "   1    |   800   |   0.133271   |     -      |     -     |   27.16  \n",
            "************************** saving checkpoint **************************\n",
            "   1    |   820   |   0.084654   |     -      |     -     |   34.14  \n",
            "   1    |   840   |   0.074719   |     -      |     -     |   27.27  \n",
            "   1    |   860   |   0.065681   |     -      |     -     |   27.03  \n",
            "   1    |   876   |   0.077724   |     -      |     -     |   21.60  \n",
            "************************** saving checkpoint **************************\n",
            "----------------------------------------------------------------------\n",
            "   1    |    -    |   0.214065   |  0.664690  |   87.62   |  1270.27 \n",
            "----------------------------------------------------------------------\n",
            "\n",
            "\n",
            " Epoch  |  Batch  |  Train Loss  |  Val Loss  |  Val Acc  |  Elapsed \n",
            "----------------------------------------------------------------------\n",
            "   2    |   20    |   0.059799   |     -      |     -     |   28.79  \n",
            "   2    |   40    |   0.084996   |     -      |     -     |   27.03  \n",
            "   2    |   60    |   0.063307   |     -      |     -     |   27.08  \n",
            "   2    |   80    |   0.060805   |     -      |     -     |   27.16  \n",
            "   2    |   100   |   0.027238   |     -      |     -     |   27.12  \n",
            "************************** saving checkpoint **************************\n",
            "   2    |   120   |   0.039974   |     -      |     -     |   33.85  \n",
            "   2    |   140   |   0.053691   |     -      |     -     |   27.26  \n",
            "   2    |   160   |   0.038320   |     -      |     -     |   27.00  \n",
            "   2    |   180   |   0.038411   |     -      |     -     |   27.12  \n",
            "   2    |   200   |   0.072183   |     -      |     -     |   27.18  \n",
            "************************** saving checkpoint **************************\n",
            "   2    |   220   |   0.070389   |     -      |     -     |   34.20  \n",
            "   2    |   240   |   0.038506   |     -      |     -     |   27.29  \n",
            "   2    |   260   |   0.027244   |     -      |     -     |   27.03  \n",
            "   2    |   280   |   0.029556   |     -      |     -     |   27.13  \n",
            "   2    |   300   |   0.035934   |     -      |     -     |   27.18  \n",
            "************************** saving checkpoint **************************\n",
            "   2    |   320   |   0.068230   |     -      |     -     |   34.05  \n",
            "   2    |   340   |   0.020640   |     -      |     -     |   27.30  \n",
            "   2    |   360   |   0.053226   |     -      |     -     |   27.01  \n",
            "   2    |   380   |   0.042811   |     -      |     -     |   27.13  \n",
            "   2    |   400   |   0.022541   |     -      |     -     |   27.16  \n",
            "************************** saving checkpoint **************************\n",
            "   2    |   420   |   0.044452   |     -      |     -     |   34.21  \n",
            "   2    |   440   |   0.012654   |     -      |     -     |   27.26  \n",
            "   2    |   460   |   0.037484   |     -      |     -     |   26.97  \n",
            "   2    |   480   |   0.012105   |     -      |     -     |   27.11  \n",
            "   2    |   500   |   0.002458   |     -      |     -     |   27.15  \n",
            "************************** saving checkpoint **************************\n",
            "   2    |   520   |   0.057260   |     -      |     -     |   34.02  \n",
            "   2    |   540   |   0.005782   |     -      |     -     |   27.28  \n",
            "   2    |   560   |   0.029138   |     -      |     -     |   27.03  \n",
            "   2    |   580   |   0.029185   |     -      |     -     |   27.12  \n",
            "   2    |   600   |   0.012763   |     -      |     -     |   27.16  \n",
            "************************** saving checkpoint **************************\n",
            "   2    |   620   |   0.031389   |     -      |     -     |   33.83  \n",
            "   2    |   640   |   0.011197   |     -      |     -     |   27.34  \n",
            "   2    |   660   |   0.006676   |     -      |     -     |   26.97  \n",
            "   2    |   680   |   0.021372   |     -      |     -     |   27.08  \n",
            "   2    |   700   |   0.001997   |     -      |     -     |   27.20  \n",
            "************************** saving checkpoint **************************\n",
            "   2    |   720   |   0.029830   |     -      |     -     |   33.72  \n",
            "   2    |   740   |   0.036514   |     -      |     -     |   27.26  \n",
            "   2    |   760   |   0.006531   |     -      |     -     |   26.98  \n",
            "   2    |   780   |   0.011085   |     -      |     -     |   27.15  \n",
            "   2    |   800   |   0.017265   |     -      |     -     |   27.19  \n",
            "************************** saving checkpoint **************************\n",
            "   2    |   820   |   0.008764   |     -      |     -     |   33.71  \n",
            "   2    |   840   |   0.002258   |     -      |     -     |   27.28  \n",
            "   2    |   860   |   0.109330   |     -      |     -     |   26.98  \n",
            "   2    |   876   |   0.002981   |     -      |     -     |   21.55  \n",
            "************************** saving checkpoint **************************\n",
            "----------------------------------------------------------------------\n",
            "   2    |    -    |   0.033995   |  0.823652  |   88.55   |  1270.16 \n",
            "----------------------------------------------------------------------\n",
            "\n",
            "\n",
            " Epoch  |  Batch  |  Train Loss  |  Val Loss  |  Val Acc  |  Elapsed \n",
            "----------------------------------------------------------------------\n",
            "   3    |   20    |   0.015271   |     -      |     -     |   28.75  \n",
            "   3    |   40    |   0.025386   |     -      |     -     |   27.04  \n",
            "   3    |   60    |   0.035451   |     -      |     -     |   27.12  \n",
            "   3    |   80    |   0.033144   |     -      |     -     |   27.19  \n",
            "   3    |   100   |   0.010692   |     -      |     -     |   27.14  \n",
            "************************** saving checkpoint **************************\n",
            "   3    |   120   |   0.003050   |     -      |     -     |   33.73  \n",
            "   3    |   140   |   0.006904   |     -      |     -     |   27.31  \n",
            "   3    |   160   |   0.024144   |     -      |     -     |   27.03  \n",
            "   3    |   180   |   0.000748   |     -      |     -     |   27.10  \n",
            "   3    |   200   |   0.001905   |     -      |     -     |   27.18  \n",
            "************************** saving checkpoint **************************\n",
            "   3    |   220   |   0.030549   |     -      |     -     |   33.96  \n",
            "   3    |   240   |   0.001767   |     -      |     -     |   27.27  \n",
            "   3    |   260   |   0.005518   |     -      |     -     |   26.97  \n",
            "   3    |   280   |   0.014911   |     -      |     -     |   27.16  \n",
            "   3    |   300   |   0.029223   |     -      |     -     |   27.17  \n",
            "************************** saving checkpoint **************************\n",
            "   3    |   320   |   0.004609   |     -      |     -     |   33.90  \n",
            "   3    |   340   |   0.005728   |     -      |     -     |   27.32  \n",
            "   3    |   360   |   0.009049   |     -      |     -     |   27.03  \n",
            "   3    |   380   |   0.000828   |     -      |     -     |   27.10  \n",
            "   3    |   400   |   0.013393   |     -      |     -     |   27.16  \n",
            "************************** saving checkpoint **************************\n",
            "   3    |   420   |   0.000633   |     -      |     -     |   33.87  \n",
            "   3    |   440   |   0.022286   |     -      |     -     |   27.28  \n",
            "   3    |   460   |   0.027105   |     -      |     -     |   27.04  \n",
            "   3    |   480   |   0.008315   |     -      |     -     |   27.12  \n",
            "   3    |   500   |   0.023053   |     -      |     -     |   27.16  \n",
            "************************** saving checkpoint **************************\n",
            "   3    |   520   |   0.000628   |     -      |     -     |   34.10  \n",
            "   3    |   540   |   0.012464   |     -      |     -     |   27.29  \n",
            "   3    |   560   |   0.000948   |     -      |     -     |   27.00  \n",
            "   3    |   580   |   0.000980   |     -      |     -     |   27.11  \n",
            "   3    |   600   |   0.025089   |     -      |     -     |   27.18  \n",
            "************************** saving checkpoint **************************\n",
            "   3    |   620   |   0.006666   |     -      |     -     |   34.08  \n",
            "   3    |   640   |   0.002660   |     -      |     -     |   27.26  \n",
            "   3    |   660   |   0.004536   |     -      |     -     |   26.98  \n",
            "   3    |   680   |   0.001217   |     -      |     -     |   27.10  \n",
            "   3    |   700   |   0.007421   |     -      |     -     |   27.17  \n",
            "************************** saving checkpoint **************************\n",
            "   3    |   720   |   0.001619   |     -      |     -     |   34.26  \n",
            "   3    |   740   |   0.001581   |     -      |     -     |   27.23  \n",
            "   3    |   760   |   0.003595   |     -      |     -     |   26.97  \n",
            "   3    |   780   |   0.003462   |     -      |     -     |   27.12  \n",
            "   3    |   800   |   0.008909   |     -      |     -     |   27.17  \n",
            "************************** saving checkpoint **************************\n",
            "   3    |   820   |   0.000404   |     -      |     -     |   34.10  \n",
            "   3    |   840   |   0.002367   |     -      |     -     |   27.31  \n",
            "   3    |   860   |   0.024659   |     -      |     -     |   27.01  \n",
            "   3    |   876   |   0.000511   |     -      |     -     |   21.58  \n",
            "************************** saving checkpoint **************************\n",
            "----------------------------------------------------------------------\n",
            "   3    |    -    |   0.010583   |  1.132087  |   87.88   |  1270.82 \n",
            "----------------------------------------------------------------------\n",
            "\n",
            "\n",
            " Epoch  |  Batch  |  Train Loss  |  Val Loss  |  Val Acc  |  Elapsed \n",
            "----------------------------------------------------------------------\n",
            "   4    |   20    |   0.001611   |     -      |     -     |   28.75  \n",
            "   4    |   40    |   0.000634   |     -      |     -     |   27.04  \n",
            "   4    |   60    |   0.002386   |     -      |     -     |   27.08  \n",
            "   4    |   80    |   0.003434   |     -      |     -     |   27.19  \n",
            "   4    |   100   |   0.011349   |     -      |     -     |   27.13  \n",
            "************************** saving checkpoint **************************\n",
            "   4    |   120   |   0.019420   |     -      |     -     |   34.14  \n",
            "   4    |   140   |   0.013431   |     -      |     -     |   27.31  \n",
            "   4    |   160   |   0.004753   |     -      |     -     |   26.98  \n",
            "   4    |   180   |   0.000424   |     -      |     -     |   27.13  \n",
            "   4    |   200   |   0.000158   |     -      |     -     |   27.19  \n",
            "************************** saving checkpoint **************************\n",
            "   4    |   220   |   0.000694   |     -      |     -     |   34.09  \n",
            "   4    |   240   |   0.001312   |     -      |     -     |   27.31  \n",
            "   4    |   260   |   0.000220   |     -      |     -     |   27.00  \n",
            "   4    |   280   |   0.000431   |     -      |     -     |   27.11  \n",
            "   4    |   300   |   0.010948   |     -      |     -     |   27.19  \n",
            "************************** saving checkpoint **************************\n",
            "   4    |   320   |   0.001612   |     -      |     -     |   33.73  \n",
            "   4    |   340   |   0.000526   |     -      |     -     |   27.34  \n",
            "   4    |   360   |   0.000677   |     -      |     -     |   27.01  \n",
            "   4    |   380   |   0.000363   |     -      |     -     |   27.09  \n",
            "   4    |   400   |   0.000235   |     -      |     -     |   27.12  \n",
            "************************** saving checkpoint **************************\n",
            "   4    |   420   |   0.005687   |     -      |     -     |   34.21  \n",
            "   4    |   440   |   0.006759   |     -      |     -     |   27.27  \n",
            "   4    |   460   |   0.013095   |     -      |     -     |   26.96  \n",
            "   4    |   480   |   0.001006   |     -      |     -     |   27.11  \n",
            "   4    |   500   |   0.000611   |     -      |     -     |   27.18  \n",
            "************************** saving checkpoint **************************\n",
            "   4    |   520   |   0.015644   |     -      |     -     |   34.18  \n",
            "   4    |   540   |   0.004663   |     -      |     -     |   27.31  \n",
            "   4    |   560   |   0.000247   |     -      |     -     |   26.98  \n",
            "   4    |   580   |   0.000344   |     -      |     -     |   27.10  \n",
            "   4    |   600   |   0.000800   |     -      |     -     |   27.19  \n",
            "************************** saving checkpoint **************************\n",
            "   4    |   620   |   0.000456   |     -      |     -     |   33.94  \n",
            "   4    |   640   |   0.001313   |     -      |     -     |   27.27  \n",
            "   4    |   660   |   0.001549   |     -      |     -     |   27.00  \n",
            "   4    |   680   |   0.001347   |     -      |     -     |   27.13  \n",
            "   4    |   700   |   0.000270   |     -      |     -     |   27.18  \n",
            "************************** saving checkpoint **************************\n",
            "   4    |   720   |   0.000280   |     -      |     -     |   34.12  \n",
            "   4    |   740   |   0.000522   |     -      |     -     |   27.29  \n",
            "   4    |   760   |   0.000276   |     -      |     -     |   26.98  \n",
            "   4    |   780   |   0.000499   |     -      |     -     |   27.09  \n",
            "   4    |   800   |   0.000348   |     -      |     -     |   27.17  \n",
            "************************** saving checkpoint **************************\n",
            "   4    |   820   |   0.018633   |     -      |     -     |   34.20  \n",
            "   4    |   840   |   0.000285   |     -      |     -     |   27.25  \n",
            "   4    |   860   |   0.000195   |     -      |     -     |   26.96  \n",
            "   4    |   876   |   0.000124   |     -      |     -     |   21.58  \n",
            "************************** saving checkpoint **************************\n",
            "----------------------------------------------------------------------\n",
            "   4    |    -    |   0.003412   |  1.276280  |   88.38   |  1270.83 \n",
            "----------------------------------------------------------------------\n",
            "\n",
            "\n",
            "Training complete!\n"
          ]
        }
      ]
    },
    {
      "cell_type": "code",
      "source": [
        "import torch.nn.functional as F\n",
        "\n",
        "def bert_predict(model, test_dataloader):\n",
        "    \"\"\"Perform a forward pass on the trained BERT model to predict probabilities\n",
        "    on the test set.\n",
        "    \"\"\"\n",
        "    # Put the model into the evaluation mode. The dropout layers are disabled during\n",
        "    # the test time.\n",
        "    model.eval()\n",
        "\n",
        "    all_logits = []\n",
        "\n",
        "    # For each batch in our test set...\n",
        "    for batch in test_dataloader:\n",
        "        # Load batch to GPU\n",
        "        b_input_ids, b_attn_mask = tuple(t.to(device) for t in batch)[:2]\n",
        "\n",
        "        # Compute logits\n",
        "        with torch.no_grad():\n",
        "            logits = model(b_input_ids, b_attn_mask)\n",
        "        all_logits.append(logits)\n",
        "    \n",
        "    # Concatenate logits from each batch\n",
        "    all_logits = torch.cat(all_logits, dim=0)\n",
        "\n",
        "    # Apply softmax to calculate probabilities\n",
        "    probs = F.softmax(all_logits, dim=1).cpu().numpy()\n",
        "\n",
        "    return probs"
      ],
      "metadata": {
        "id": "ROAJOsZl6BwU"
      },
      "execution_count": 121,
      "outputs": []
    },
    {
      "cell_type": "code",
      "source": [
        "from sklearn.metrics import accuracy_score, roc_curve, auc\n",
        "\n",
        "def evaluate_roc(probs, y_true):\n",
        "    \"\"\"\n",
        "    - Print AUC and accuracy on the test set\n",
        "    - Plot ROC\n",
        "    @params    probs (np.array): an array of predicted probabilities with shape (len(y_true), 2)\n",
        "    @params    y_true (np.array): an array of the true values with shape (len(y_true),)\n",
        "    \"\"\"\n",
        "    preds = probs[:, 1]\n",
        "    fpr, tpr, threshold = roc_curve(y_true, preds)\n",
        "    roc_auc = auc(fpr, tpr)\n",
        "    print(f'AUC: {roc_auc:.4f}')\n",
        "       \n",
        "    # Get accuracy over the test set\n",
        "    y_pred = np.where(preds >= 0.5, 1, 0)\n",
        "    accuracy = accuracy_score(y_true, y_pred)\n",
        "    print(f'Accuracy: {accuracy*100:.2f}%')\n",
        "    \n",
        "    # Plot ROC AUC\n",
        "    plt.title('Receiver Operating Characteristic')\n",
        "    plt.plot(fpr, tpr, 'b', label = 'AUC = %0.2f' % roc_auc)\n",
        "    plt.legend(loc = 'lower right')\n",
        "    plt.plot([0, 1], [0, 1],'r--')\n",
        "    plt.xlim([0, 1])\n",
        "    plt.ylim([0, 1])\n",
        "    plt.ylabel('True Positive Rate')\n",
        "    plt.xlabel('False Positive Rate')\n",
        "    plt.show()"
      ],
      "metadata": {
        "id": "-5O3RRyF6FiB"
      },
      "execution_count": 122,
      "outputs": []
    },
    {
      "cell_type": "code",
      "source": [
        "probs = bert_predict(bert_classifier, val_dataloader)\n",
        "\n",
        "# Evaluate the Bert classifier\n",
        "evaluate_roc(probs, Y_val.astype(float))"
      ],
      "metadata": {
        "id": "h5zt8oWH6MMK",
        "colab": {
          "base_uri": "https://localhost:8080/",
          "height": 336
        },
        "outputId": "595d2862-8899-4b85-862f-a7bf233615ba"
      },
      "execution_count": 123,
      "outputs": [
        {
          "output_type": "stream",
          "name": "stdout",
          "text": [
            "AUC: 0.9247\n",
            "Accuracy: 88.54%\n"
          ]
        },
        {
          "output_type": "display_data",
          "data": {
            "text/plain": [
              "<Figure size 432x288 with 1 Axes>"
            ],
            "image/png": "[encoded data removed]"
          },
          "metadata": {}
        }
      ]
    },
    {
      "cell_type": "code",
      "source": [
        "preds=probs[:,1]\n",
        "y_pred = np.where(preds >= 0.5, 1, 0)\n"
      ],
      "metadata": {
        "id": "3NJhUVA36OgP"
      },
      "execution_count": 124,
      "outputs": []
    },
    {
      "cell_type": "code",
      "source": [
        "confusion_matrix = pd.crosstab( Y_val.astype(float),y_pred, rownames=['Actual'], colnames=['Predicted'])\n",
        "print (confusion_matrix)"
      ],
      "metadata": {
        "id": "SoEt09-_6acE",
        "colab": {
          "base_uri": "https://localhost:8080/"
        },
        "outputId": "6d28ca9c-ee77-48ee-bcd3-44c4585f7da7"
      },
      "execution_count": 125,
      "outputs": [
        {
          "output_type": "stream",
          "name": "stdout",
          "text": [
            "Predicted    0    1\n",
            "Actual             \n",
            "0.0        663   72\n",
            "1.0         62  372\n"
          ]
        }
      ]
    },
    {
      "cell_type": "code",
      "source": [
        "import os\n",
        "import pandas as pd\n",
        "import sklearn\n",
        "from sklearn.metrics import accuracy_score, f1_score, precision_score, recall_score, classification_report, confusion_matrix\n",
        "from sklearn import metrics"
      ],
      "metadata": {
        "id": "BgSqbrKH6gdN"
      },
      "execution_count": 126,
      "outputs": []
    },
    {
      "cell_type": "code",
      "source": [
        "sklearn.metrics.confusion_matrix(Y_val.astype(float), y_pred,  labels=None, sample_weight=None, normalize=None)"
      ],
      "metadata": {
        "id": "-Y7yYSyA6iQP",
        "colab": {
          "base_uri": "https://localhost:8080/"
        },
        "outputId": "c0f4e1d2-dff7-4e3f-972c-1ccb2f058ead"
      },
      "execution_count": 127,
      "outputs": [
        {
          "output_type": "execute_result",
          "data": {
            "text/plain": [
              "array([[663,  72],\n",
              "       [ 62, 372]])"
            ]
          },
          "metadata": {},
          "execution_count": 127
        }
      ]
    },
    {
      "cell_type": "code",
      "source": [
        "array = pd.crosstab(Y_val.astype(float), y_pred, rownames=['Actual'], colnames=['Predicted'], margins=True)"
      ],
      "metadata": {
        "id": "_mgImFrl6kfo"
      },
      "execution_count": 128,
      "outputs": []
    },
    {
      "cell_type": "code",
      "source": [
        "array"
      ],
      "metadata": {
        "id": "UCb7rEcj6nLh",
        "colab": {
          "base_uri": "https://localhost:8080/",
          "height": 175
        },
        "outputId": "ed1e66cc-bb8a-4475-9260-ac1ad19de031"
      },
      "execution_count": 129,
      "outputs": [
        {
          "output_type": "execute_result",
          "data": {
            "text/plain": [
              "Predicted    0    1   All\n",
              "Actual                   \n",
              "0.0        663   72   735\n",
              "1.0         62  372   434\n",
              "All        725  444  1169"
            ],
            "text/html": [
              "\n",
              "  <div id=\"df-d2677b60-6919-4ac9-bf97-997444142bea\">\n",
              "    <div class=\"colab-df-container\">\n",
              "      <div>\n",
              "<style scoped>\n",
              "    .dataframe tbody tr th:only-of-type {\n",
              "        vertical-align: middle;\n",
              "    }\n",
              "\n",
              "    .dataframe tbody tr th {\n",
              "        vertical-align: top;\n",
              "    }\n",
              "\n",
              "    .dataframe thead th {\n",
              "        text-align: right;\n",
              "    }\n",
              "</style>\n",
              "<table border=\"1\" class=\"dataframe\">\n",
              "  <thead>\n",
              "    <tr style=\"text-align: right;\">\n",
              "      <th>Predicted</th>\n",
              "      <th>0</th>\n",
              "      <th>1</th>\n",
              "      <th>All</th>\n",
              "    </tr>\n",
              "    <tr>\n",
              "      <th>Actual</th>\n",
              "      <th></th>\n",
              "      <th></th>\n",
              "      <th></th>\n",
              "    </tr>\n",
              "  </thead>\n",
              "  <tbody>\n",
              "    <tr>\n",
              "      <th>0.0</th>\n",
              "      <td>663</td>\n",
              "      <td>72</td>\n",
              "      <td>735</td>\n",
              "    </tr>\n",
              "    <tr>\n",
              "      <th>1.0</th>\n",
              "      <td>62</td>\n",
              "      <td>372</td>\n",
              "      <td>434</td>\n",
              "    </tr>\n",
              "    <tr>\n",
              "      <th>All</th>\n",
              "      <td>725</td>\n",
              "      <td>444</td>\n",
              "      <td>1169</td>\n",
              "    </tr>\n",
              "  </tbody>\n",
              "</table>\n",
              "</div>\n",
              "      <button class=\"colab-df-convert\" onclick=\"convertToInteractive('df-d2677b60-6919-4ac9-bf97-997444142bea')\"\n",
              "              title=\"Convert this dataframe to an interactive table.\"\n",
              "              style=\"display:none;\">\n",
              "        \n",
              "  <svg xmlns=\"http://www.w3.org/2000/svg\" height=\"24px\"viewBox=\"0 0 24 24\"\n",
              "       width=\"24px\">\n",
              "    <path d=\"M0 0h24v24H0V0z\" fill=\"none\"/>\n",
              "    <path d=\"M18.56 5.44l.94 2.06.94-2.06 2.06-.94-2.06-.94-.94-2.06-.94 2.06-2.06.94zm-11 1L8.5 8.5l.94-2.06 2.06-.94-2.06-.94L8.5 2.5l-.94 2.06-2.06.94zm10 10l.94 2.06.94-2.06 2.06-.94-2.06-.94-.94-2.06-.94 2.06-2.06.94z\"/><path d=\"M17.41 7.96l-1.37-1.37c-.4-.4-.92-.59-1.43-.59-.52 0-1.04.2-1.43.59L10.3 9.45l-7.72 7.72c-.78.78-.78 2.05 0 2.83L4 21.41c.39.39.9.59 1.41.59.51 0 1.02-.2 1.41-.59l7.78-7.78 2.81-2.81c.8-.78.8-2.07 0-2.86zM5.41 20L4 18.59l7.72-7.72 1.47 1.35L5.41 20z\"/>\n",
              "  </svg>\n",
              "      </button>\n",
              "      \n",
              "  <style>\n",
              "    .colab-df-container {\n",
              "      display:flex;\n",
              "      flex-wrap:wrap;\n",
              "      gap: 12px;\n",
              "    }\n",
              "\n",
              "    .colab-df-convert {\n",
              "      background-color: #E8F0FE;\n",
              "      border: none;\n",
              "      border-radius: 50%;\n",
              "      cursor: pointer;\n",
              "      display: none;\n",
              "      fill: #1967D2;\n",
              "      height: 32px;\n",
              "      padding: 0 0 0 0;\n",
              "      width: 32px;\n",
              "    }\n",
              "\n",
              "    .colab-df-convert:hover {\n",
              "      background-color: #E2EBFA;\n",
              "      box-shadow: 0px 1px 2px rgba(60, 64, 67, 0.3), 0px 1px 3px 1px rgba(60, 64, 67, 0.15);\n",
              "      fill: #174EA6;\n",
              "    }\n",
              "\n",
              "    [theme=dark] .colab-df-convert {\n",
              "      background-color: #3B4455;\n",
              "      fill: #D2E3FC;\n",
              "    }\n",
              "\n",
              "    [theme=dark] .colab-df-convert:hover {\n",
              "      background-color: #434B5C;\n",
              "      box-shadow: 0px 1px 3px 1px rgba(0, 0, 0, 0.15);\n",
              "      filter: drop-shadow(0px 1px 2px rgba(0, 0, 0, 0.3));\n",
              "      fill: #FFFFFF;\n",
              "    }\n",
              "  </style>\n",
              "\n",
              "      <script>\n",
              "        const buttonEl =\n",
              "          document.querySelector('#df-d2677b60-6919-4ac9-bf97-997444142bea button.colab-df-convert');\n",
              "        buttonEl.style.display =\n",
              "          google.colab.kernel.accessAllowed ? 'block' : 'none';\n",
              "\n",
              "        async function convertToInteractive(key) {\n",
              "          const element = document.querySelector('#df-d2677b60-6919-4ac9-bf97-997444142bea');\n",
              "          const dataTable =\n",
              "            await google.colab.kernel.invokeFunction('convertToInteractive',\n",
              "                                                     [key], {});\n",
              "          if (!dataTable) return;\n",
              "\n",
              "          const docLinkHtml = 'Like what you see? Visit the ' +\n",
              "            '<a target=\"_blank\" href=https://colab.research.google.com/notebooks/data_table.ipynb>data table notebook</a>'\n",
              "            + ' to learn more about interactive tables.';\n",
              "          element.innerHTML = '';\n",
              "          dataTable['output_type'] = 'display_data';\n",
              "          await google.colab.output.renderOutput(dataTable, element);\n",
              "          const docLink = document.createElement('div');\n",
              "          docLink.innerHTML = docLinkHtml;\n",
              "          element.appendChild(docLink);\n",
              "        }\n",
              "      </script>\n",
              "    </div>\n",
              "  </div>\n",
              "  "
            ]
          },
          "metadata": {},
          "execution_count": 129
        }
      ]
    },
    {
      "cell_type": "code",
      "source": [
        "print(classification_report(Y_val.astype(float), y_pred))\n"
      ],
      "metadata": {
        "id": "nfLwnR-C6qJG",
        "colab": {
          "base_uri": "https://localhost:8080/"
        },
        "outputId": "c3d98b15-f597-45f3-fde3-9360cf1de8e6"
      },
      "execution_count": 130,
      "outputs": [
        {
          "output_type": "stream",
          "name": "stdout",
          "text": [
            "              precision    recall  f1-score   support\n",
            "\n",
            "         0.0       0.91      0.90      0.91       735\n",
            "         1.0       0.84      0.86      0.85       434\n",
            "\n",
            "    accuracy                           0.89      1169\n",
            "   macro avg       0.88      0.88      0.88      1169\n",
            "weighted avg       0.89      0.89      0.89      1169\n",
            "\n"
          ]
        }
      ]
    },
    {
      "cell_type": "code",
      "source": [
        "import seaborn as sn\n",
        "import pandas as pd\n",
        "import matplotlib.pyplot as plt"
      ],
      "metadata": {
        "id": "zx1ZemKv6ucy"
      },
      "execution_count": 131,
      "outputs": []
    },
    {
      "cell_type": "code",
      "source": [
        "df_cm = pd.DataFrame(array, range(2), range(2))\n",
        "# plt.figure(figsize=(10,7))\n",
        "sn.set(font_scale=2) # for label size\n",
        "sn.heatmap(df_cm, annot=True, annot_kws={\"size\": 16}) # font size"
      ],
      "metadata": {
        "id": "S40kHp8g6wSS",
        "colab": {
          "base_uri": "https://localhost:8080/",
          "height": 295
        },
        "outputId": "70160a68-8060-40f1-f2b6-451c0125a92a"
      },
      "execution_count": 132,
      "outputs": [
        {
          "output_type": "execute_result",
          "data": {
            "text/plain": [
              "<matplotlib.axes._subplots.AxesSubplot at 0x7f8d0f345890>"
            ]
          },
          "metadata": {},
          "execution_count": 132
        },
        {
          "output_type": "display_data",
          "data": {
            "text/plain": [
              "<Figure size 432x288 with 2 Axes>"
            ],
            "image/png": "[encoded data removed]"
          },
          "metadata": {}
        }
      ]
    }
  ]
}